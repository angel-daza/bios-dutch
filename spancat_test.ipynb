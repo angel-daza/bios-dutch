{
 "cells": [
  {
   "cell_type": "code",
   "execution_count": 24,
   "metadata": {},
   "outputs": [],
   "source": [
    "import spacy\n",
    "from spacy.matcher import Matcher\n",
    "from collections import defaultdict\n",
    "\n",
    "nlp = spacy.load(\"nl_core_news_lg\")\n",
    "\n",
    "matcher = Matcher(nlp.vocab)\n",
    "pattern = [[{'IS_TITLE': True, 'OP': '+'},\n",
    "            {'IS_LOWER': True, 'OP': '?'},\n",
    "            {'IS_LOWER': True, 'OP': '?'},\n",
    "            {'IS_TITLE': True, 'OP': '+'}\n",
    "           ]]\n",
    "\n",
    "pattern_id = \"proper_names_greedy\"\n",
    "matcher.add(pattern_id, pattern)\n",
    "\n",
    "def match_proper_names(matcher, nlp_doc, text):\n",
    "    matches = matcher(nlp_doc)\n",
    "    spans_matched = []\n",
    "    ix = 0\n",
    "    for match_id, start, end in matches:\n",
    "        start_char = nlp_doc[start].idx\n",
    "        end_char = nlp_doc[end-1].idx + len(nlp_doc[end-1].text)\n",
    "        surface_form = text[start_char:end_char]\n",
    "        spans_matched.append({\n",
    "            \"ID\": f\"spacy_matcher_nl_{ix}\",\n",
    "            \"surfaceForm\": surface_form,\n",
    "            \"category\": \"PER\",\n",
    "            \"locationStart\": start_char,\n",
    "            \"locationEnd\": end_char,\n",
    "            \"method\": \"spacy_matcher_nl\"\n",
    "        })\n",
    "        ix += 1\n",
    "    \n",
    "    return spans_matched\n",
    "\n"
   ]
  },
  {
   "cell_type": "code",
   "execution_count": 25,
   "metadata": {},
   "outputs": [
    {
     "name": "stdout",
     "output_type": "stream",
     "text": [
      "{'ID': 'spacy_matcher_nl_0', 'surfaceForm': 'Gent den 24sten Februarij', 'category': 'PER', 'locationStart': 102, 'locationEnd': 127, 'method': 'spacy_matcher_nl'}\n",
      "{'ID': 'spacy_matcher_nl_1', 'surfaceForm': 'Filips I', 'category': 'PER', 'locationStart': 169, 'locationEnd': 177, 'method': 'spacy_matcher_nl'}\n",
      "{'ID': 'spacy_matcher_nl_2', 'surfaceForm': 'Kastilie en Leon', 'category': 'PER', 'locationStart': 315, 'locationEnd': 331, 'method': 'spacy_matcher_nl'}\n",
      "{'ID': 'spacy_matcher_nl_3', 'surfaceForm': 'In de Nederlanden', 'category': 'PER', 'locationStart': 333, 'locationEnd': 350, 'method': 'spacy_matcher_nl'}\n",
      "{'ID': 'spacy_matcher_nl_4', 'surfaceForm': 'Willem van Croy', 'category': 'PER', 'locationStart': 402, 'locationEnd': 417, 'method': 'spacy_matcher_nl'}\n",
      "{'ID': 'spacy_matcher_nl_5', 'surfaceForm': 'Adriaan Floriszoon', 'category': 'PER', 'locationStart': 470, 'locationEnd': 488, 'method': 'spacy_matcher_nl'}\n",
      "{'ID': 'spacy_matcher_nl_6', 'surfaceForm': 'Arragon en Kastilie', 'category': 'PER', 'locationStart': 832, 'locationEnd': 851, 'method': 'spacy_matcher_nl'}\n",
      "{'ID': 'spacy_matcher_nl_7', 'surfaceForm': 'Napels en Sicilie', 'category': 'PER', 'locationStart': 934, 'locationEnd': 951, 'method': 'spacy_matcher_nl'}\n",
      "{'ID': 'spacy_matcher_nl_8', 'surfaceForm': 'Frans I', 'category': 'PER', 'locationStart': 1437, 'locationEnd': 1444, 'method': 'spacy_matcher_nl'}\n",
      "{'ID': 'spacy_matcher_nl_9', 'surfaceForm': 'Karel V', 'category': 'PER', 'locationStart': 1541, 'locationEnd': 1548, 'method': 'spacy_matcher_nl'}\n",
      "{'ID': 'spacy_matcher_nl_10', 'surfaceForm': 'Karel en Frans', 'category': 'PER', 'locationStart': 2231, 'locationEnd': 2245, 'method': 'spacy_matcher_nl'}\n",
      "{'ID': 'spacy_matcher_nl_11', 'surfaceForm': 'Karel en Frans I', 'category': 'PER', 'locationStart': 2231, 'locationEnd': 2247, 'method': 'spacy_matcher_nl'}\n",
      "{'ID': 'spacy_matcher_nl_12', 'surfaceForm': 'Frans I', 'category': 'PER', 'locationStart': 2240, 'locationEnd': 2247, 'method': 'spacy_matcher_nl'}\n",
      "{'ID': 'spacy_matcher_nl_13', 'surfaceForm': 'Een congres te Calais', 'category': 'PER', 'locationStart': 2413, 'locationEnd': 2434, 'method': 'spacy_matcher_nl'}\n",
      "{'ID': 'spacy_matcher_nl_14', 'surfaceForm': 'Leo X', 'category': 'PER', 'locationStart': 2615, 'locationEnd': 2620, 'method': 'spacy_matcher_nl'}\n",
      "{'ID': 'spacy_matcher_nl_15', 'surfaceForm': 'De Fransche', 'category': 'PER', 'locationStart': 2855, 'locationEnd': 2866, 'method': 'spacy_matcher_nl'}\n",
      "{'ID': 'spacy_matcher_nl_16', 'surfaceForm': 'Heilig Verbond', 'category': 'PER', 'locationStart': 3414, 'locationEnd': 3428, 'method': 'spacy_matcher_nl'}\n",
      "{'ID': 'spacy_matcher_nl_17', 'surfaceForm': 'Weldra had Karel', 'category': 'PER', 'locationStart': 3438, 'locationEnd': 3454, 'method': 'spacy_matcher_nl'}\n"
     ]
    }
   ],
   "source": [
    "text = \"\"\"\n",
    "KAREL V, keizer van Duitschland, koning van Spanje, graaf van Holland, de IIe van dien naam, werd te Gent den 24sten Februarij 1500 geboren. Hij was de oudste zoon van Filips I, koning van Spanje en graaf van Holland, en van Johanna, tweede dochter van Ferdinand, koning van Arragon, en van Isabella, koningin van Kastilie en Leon. In de Nederlanden opgevoed, werd hij toevertrouwd aan de leiding van Willem van Croy, heer van Chievres, en genoot hij het onderwijs van Adriaan Floriszoon, later paus Adriaan VI. De zorg, door beide mannen aan hem besteed, was eene vergoeding voor het gemis der ouderlijke hulp, daar hem zijn vader reeds in 1506 ontviel, en zijne moeder, door den onverwachten dood van haren echtgenoot, krankzinnig was geworden. Zijn grootvader van moeders zijde, in 1516 overlijdende, erfde Karel de kroonen van Arragon en Kastilie met hare uitgebreide bezittingen in de Nieuwe wereld, als ook de koningrijken van Napels en Sicilie, en het eiland Sardinie. Hij nam toen den titel van koning van Spanje aan, waar de vermaarde Ximenes tijdelijk het bewind voerde en door zijn voortreffelijk bestuur, ofschoon met ondank beloond, zooveel tot de welvaart van dat land en de glorie van Karel toebragt. Met den dood van keizer Maximiliaan, in 1519, werd Karel tot keizer van het Duitsche rijk verkozen, en verliet hij Spanje, werwaarts hij twee jaren te voren vertrokken was, om bezit te nemen van eene kroon, die hem door Frans I, koning van Frankrijk, betwist was. Waar wij geroepen zijn het levensberigt van eenen vorst als Karel V zamen te stellen, staan wij verlegen, hoe ons van die taak op eene geschikte wijze te kwijten. In het eng bestek toch van eenige bladzijden, ons daartoe afgestaan, is het onmogelijk een juist overzigt te geven van zijn leven, omdat de gebeurtenissen des tijds, waarover wij hier in het breede niet kunnen uitwijden, daarmede in het naauwste verband staan. Zonder daarom van al die gebeurtenissen te gewagen, die wel onder Karel's bestuur en door zijn toedoen voorvielen, doch waaraan hij niet altijd een werkzaam deel had, zullen wij trachten een zoo beknopt en naauwkeurig mogelijk berigt over hem daar te stellen. Het was wel niet te verwonderen dat er weldra een oorlog tusschen Karel en Frans I, de beide mededingers naar de Duitsche keizerskroon, uitbrak. In 1521 werden de vijandelijkheden begonnen, die meestal ongelukkig voor de Fransche wapenen afliepen. Een congres te Calais gehouden, diende slechts om de gemoederen nog meer te verhitten, en gaf aan Hendrik VIII, koning van Engeland, een voorwendsel om zich voor Karel te verklaren, die eerst door paus Leo X en daarna door zijnen leermeester, paus Adriaan, die zijne verkiezing aan hem te danken had, krachtig ondersteund werd. In den slag bij Passau, in 1525 tusschen de beide legers voorgevallen, verklaarde zich de overwinning voor Karel. De Fransche vorst werd gevangen genomen en, omdat hij de hem gestelde vernederende voorwaarden, tot terugverkrijging zijner vrijheid, verwierp, naar Spanje gevoerd, werwaarts hij niet wederkeerde, dan na afstand van zijne kroon, ten behoeve van zijnen zoon, te hebben gedaan, waarvan het verdrag den 14den Januarij 1526 geteekend werd. De uitgebreide magt van Karel was thans aan vele vorsten van Europa een doorn in het oog. Clemens VII, thans paus van Rome, stelde zich aan het hoofd van een verbond tusschen de voornaamste staten van Italie, en daarom het Heilig Verbond genaamd. Weldra had Karel nu de handen in Italie vol, en ook daar werden zijne wapenen met eene glansrijke uitkomst bekroond.\"\"\"\n",
    "\n",
    "nlp_doc = nlp(text)\n",
    "matches = match_proper_names(matcher, nlp_doc, text)\n",
    "for m in matches:\n",
    "    print(m)"
   ]
  }
 ],
 "metadata": {
  "kernelspec": {
   "display_name": "nlp",
   "language": "python",
   "name": "python3"
  },
  "language_info": {
   "codemirror_mode": {
    "name": "ipython",
    "version": 3
   },
   "file_extension": ".py",
   "mimetype": "text/x-python",
   "name": "python",
   "nbconvert_exporter": "python",
   "pygments_lexer": "ipython3",
   "version": "3.8.12"
  },
  "orig_nbformat": 4
 },
 "nbformat": 4,
 "nbformat_minor": 2
}
