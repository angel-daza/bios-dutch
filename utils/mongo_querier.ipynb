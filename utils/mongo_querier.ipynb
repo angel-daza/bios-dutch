{
 "cells": [
  {
   "attachments": {},
   "cell_type": "markdown",
   "metadata": {},
   "source": [
    "## Connect to Mongo and the BiographyNet Collection (Database)"
   ]
  },
  {
   "cell_type": "code",
   "execution_count": 2,
   "metadata": {},
   "outputs": [],
   "source": [
    "from typing import TypeVar\n",
    "# START MONGO IN MAC: mongod --config /usr/local/etc/mongod.conf\n",
    "# START MONGO IN UBUNTU: sudo systemctl start mongod\n",
    "# https://docs.mongodb.com/manual/tutorial/install-mongodb-on-ubuntu/\n",
    "from pymongo import MongoClient\n",
    "MongoCollection = TypeVar(\"MongoCollection\")\n",
    "\n",
    "COLLECTION_NAME = f\"bionet_intavia\"\n",
    "DB_NAME = \"biographies\"\n",
    "\n",
    "client = MongoClient(\"mongodb://localhost:27017/\")\n",
    "    \n",
    "db = client[DB_NAME]\n",
    "bionet_collection = db[COLLECTION_NAME]"
   ]
  },
  {
   "attachments": {},
   "cell_type": "markdown",
   "metadata": {},
   "source": [
    "## Test Queries"
   ]
  },
  {
   "attachments": {},
   "cell_type": "markdown",
   "metadata": {},
   "source": [
    "### Stats for Entity Models applied to the Dataset"
   ]
  },
  {
   "cell_type": "code",
   "execution_count": 6,
   "metadata": {},
   "outputs": [
    {
     "name": "stdout",
     "output_type": "stream",
     "text": [
      "{'stanza_nl': 81267, 'flair/ner-dutch-large_0.11.1': 81248, 'human_gold': 347}\n"
     ]
    }
   ],
   "source": [
    "models_dict = {}\n",
    "for intavia_doc in bionet_collection.find({\"data.entities\": {\"$exists\": True, \"$not\": {\"$size\": 0}}}):\n",
    "    included_models = set([ent['method'] for ent in intavia_doc['data'].get('entities', [])])\n",
    "    for m in included_models:\n",
    "        if m in models_dict:\n",
    "            models_dict[m] += 1\n",
    "        else:\n",
    "            models_dict[m] = 1\n",
    "\n",
    "print(models_dict)\n"
   ]
  },
  {
   "cell_type": "code",
   "execution_count": null,
   "metadata": {},
   "outputs": [],
   "source": []
  }
 ],
 "metadata": {
  "kernelspec": {
   "display_name": "nlp",
   "language": "python",
   "name": "python3"
  },
  "language_info": {
   "codemirror_mode": {
    "name": "ipython",
    "version": 3
   },
   "file_extension": ".py",
   "mimetype": "text/x-python",
   "name": "python",
   "nbconvert_exporter": "python",
   "pygments_lexer": "ipython3",
   "version": "3.8.12"
  },
  "orig_nbformat": 4
 },
 "nbformat": 4,
 "nbformat_minor": 2
}
