{
 "cells": [
  {
   "cell_type": "code",
   "execution_count": 7,
   "metadata": {},
   "outputs": [
    {
     "name": "stdout",
     "output_type": "stream",
     "text": [
      "Requirement already satisfied: pandas in /Users/daza/anaconda3/envs/cohere/lib/python3.11/site-packages (2.1.3)\n",
      "Requirement already satisfied: cohere in /Users/daza/anaconda3/envs/cohere/lib/python3.11/site-packages (4.37)\n",
      "Requirement already satisfied: umap-learn in /Users/daza/anaconda3/envs/cohere/lib/python3.11/site-packages (0.5.5)\n",
      "Requirement already satisfied: altair in /Users/daza/anaconda3/envs/cohere/lib/python3.11/site-packages (5.2.0)\n",
      "Requirement already satisfied: python-dotenv in /Users/daza/anaconda3/envs/cohere/lib/python3.11/site-packages (1.0.0)\n",
      "Requirement already satisfied: numpy<2,>=1.23.2 in /Users/daza/anaconda3/envs/cohere/lib/python3.11/site-packages (from pandas) (1.26.2)\n",
      "Requirement already satisfied: python-dateutil>=2.8.2 in /Users/daza/anaconda3/envs/cohere/lib/python3.11/site-packages (from pandas) (2.8.2)\n",
      "Requirement already satisfied: pytz>=2020.1 in /Users/daza/anaconda3/envs/cohere/lib/python3.11/site-packages (from pandas) (2023.3.post1)\n",
      "Requirement already satisfied: tzdata>=2022.1 in /Users/daza/anaconda3/envs/cohere/lib/python3.11/site-packages (from pandas) (2023.3)\n",
      "Requirement already satisfied: aiohttp<4.0,>=3.0 in /Users/daza/anaconda3/envs/cohere/lib/python3.11/site-packages (from cohere) (3.9.1)\n",
      "Requirement already satisfied: backoff<3.0,>=2.0 in /Users/daza/anaconda3/envs/cohere/lib/python3.11/site-packages (from cohere) (2.2.1)\n",
      "Requirement already satisfied: fastavro<2.0,>=1.8 in /Users/daza/anaconda3/envs/cohere/lib/python3.11/site-packages (from cohere) (1.9.0)\n",
      "Requirement already satisfied: importlib_metadata<7.0,>=6.0 in /Users/daza/anaconda3/envs/cohere/lib/python3.11/site-packages (from cohere) (6.11.0)\n",
      "Requirement already satisfied: requests<3.0.0,>=2.25.0 in /Users/daza/anaconda3/envs/cohere/lib/python3.11/site-packages (from cohere) (2.31.0)\n",
      "Requirement already satisfied: urllib3<3,>=1.26 in /Users/daza/anaconda3/envs/cohere/lib/python3.11/site-packages (from cohere) (1.26.18)\n",
      "Requirement already satisfied: scipy>=1.3.1 in /Users/daza/anaconda3/envs/cohere/lib/python3.11/site-packages (from umap-learn) (1.11.4)\n",
      "Requirement already satisfied: scikit-learn>=0.22 in /Users/daza/anaconda3/envs/cohere/lib/python3.11/site-packages (from umap-learn) (1.3.2)\n",
      "Requirement already satisfied: numba>=0.51.2 in /Users/daza/anaconda3/envs/cohere/lib/python3.11/site-packages (from umap-learn) (0.58.1)\n",
      "Requirement already satisfied: pynndescent>=0.5 in /Users/daza/anaconda3/envs/cohere/lib/python3.11/site-packages (from umap-learn) (0.5.11)\n",
      "Requirement already satisfied: tqdm in /Users/daza/anaconda3/envs/cohere/lib/python3.11/site-packages (from umap-learn) (4.65.0)\n",
      "Requirement already satisfied: jinja2 in /Users/daza/anaconda3/envs/cohere/lib/python3.11/site-packages (from altair) (3.1.2)\n",
      "Requirement already satisfied: jsonschema>=3.0 in /Users/daza/anaconda3/envs/cohere/lib/python3.11/site-packages (from altair) (4.20.0)\n",
      "Requirement already satisfied: packaging in /Users/daza/anaconda3/envs/cohere/lib/python3.11/site-packages (from altair) (23.2)\n",
      "Requirement already satisfied: toolz in /Users/daza/anaconda3/envs/cohere/lib/python3.11/site-packages (from altair) (0.12.0)\n",
      "Requirement already satisfied: attrs>=17.3.0 in /Users/daza/anaconda3/envs/cohere/lib/python3.11/site-packages (from aiohttp<4.0,>=3.0->cohere) (23.1.0)\n",
      "Requirement already satisfied: multidict<7.0,>=4.5 in /Users/daza/anaconda3/envs/cohere/lib/python3.11/site-packages (from aiohttp<4.0,>=3.0->cohere) (6.0.4)\n",
      "Requirement already satisfied: yarl<2.0,>=1.0 in /Users/daza/anaconda3/envs/cohere/lib/python3.11/site-packages (from aiohttp<4.0,>=3.0->cohere) (1.9.3)\n",
      "Requirement already satisfied: frozenlist>=1.1.1 in /Users/daza/anaconda3/envs/cohere/lib/python3.11/site-packages (from aiohttp<4.0,>=3.0->cohere) (1.4.0)\n",
      "Requirement already satisfied: aiosignal>=1.1.2 in /Users/daza/anaconda3/envs/cohere/lib/python3.11/site-packages (from aiohttp<4.0,>=3.0->cohere) (1.3.1)\n",
      "Requirement already satisfied: zipp>=0.5 in /Users/daza/anaconda3/envs/cohere/lib/python3.11/site-packages (from importlib_metadata<7.0,>=6.0->cohere) (3.17.0)\n",
      "Requirement already satisfied: jsonschema-specifications>=2023.03.6 in /Users/daza/anaconda3/envs/cohere/lib/python3.11/site-packages (from jsonschema>=3.0->altair) (2023.11.2)\n",
      "Requirement already satisfied: referencing>=0.28.4 in /Users/daza/anaconda3/envs/cohere/lib/python3.11/site-packages (from jsonschema>=3.0->altair) (0.31.1)\n",
      "Requirement already satisfied: rpds-py>=0.7.1 in /Users/daza/anaconda3/envs/cohere/lib/python3.11/site-packages (from jsonschema>=3.0->altair) (0.13.2)\n",
      "Requirement already satisfied: llvmlite<0.42,>=0.41.0dev0 in /Users/daza/anaconda3/envs/cohere/lib/python3.11/site-packages (from numba>=0.51.2->umap-learn) (0.41.0)\n",
      "Requirement already satisfied: joblib>=0.11 in /Users/daza/anaconda3/envs/cohere/lib/python3.11/site-packages (from pynndescent>=0.5->umap-learn) (1.3.2)\n",
      "Requirement already satisfied: six>=1.5 in /Users/daza/anaconda3/envs/cohere/lib/python3.11/site-packages (from python-dateutil>=2.8.2->pandas) (1.16.0)\n",
      "Requirement already satisfied: charset-normalizer<4,>=2 in /Users/daza/anaconda3/envs/cohere/lib/python3.11/site-packages (from requests<3.0.0,>=2.25.0->cohere) (2.0.4)\n",
      "Requirement already satisfied: idna<4,>=2.5 in /Users/daza/anaconda3/envs/cohere/lib/python3.11/site-packages (from requests<3.0.0,>=2.25.0->cohere) (3.4)\n",
      "Requirement already satisfied: certifi>=2017.4.17 in /Users/daza/anaconda3/envs/cohere/lib/python3.11/site-packages (from requests<3.0.0,>=2.25.0->cohere) (2023.11.17)\n",
      "Requirement already satisfied: threadpoolctl>=2.0.0 in /Users/daza/anaconda3/envs/cohere/lib/python3.11/site-packages (from scikit-learn>=0.22->umap-learn) (3.2.0)\n",
      "Requirement already satisfied: MarkupSafe>=2.0 in /Users/daza/anaconda3/envs/cohere/lib/python3.11/site-packages (from jinja2->altair) (2.1.1)\n"
     ]
    }
   ],
   "source": [
    "! pip install pandas cohere umap-learn altair python-dotenv plotly"
   ]
  },
  {
   "cell_type": "code",
   "execution_count": 9,
   "metadata": {},
   "outputs": [
    {
     "ename": "AttributeError",
     "evalue": "partially initialized module 'charset_normalizer' has no attribute 'md__mypyc' (most likely due to a circular import)",
     "output_type": "error",
     "traceback": [
      "\u001b[0;31m---------------------------------------------------------------------------\u001b[0m",
      "\u001b[0;31mModuleNotFoundError\u001b[0m                       Traceback (most recent call last)",
      "File \u001b[0;32m~/anaconda3/envs/cohere/lib/python3.11/site-packages/requests/compat.py:11\u001b[0m\n\u001b[1;32m     10\u001b[0m \u001b[39mtry\u001b[39;00m:\n\u001b[0;32m---> 11\u001b[0m     \u001b[39mimport\u001b[39;00m \u001b[39mchardet\u001b[39;00m\n\u001b[1;32m     12\u001b[0m \u001b[39mexcept\u001b[39;00m \u001b[39mImportError\u001b[39;00m:\n",
      "\u001b[0;31mModuleNotFoundError\u001b[0m: No module named 'chardet'",
      "\nDuring handling of the above exception, another exception occurred:\n",
      "\u001b[0;31mAttributeError\u001b[0m                            Traceback (most recent call last)",
      "\u001b[1;32m/Users/daza/ReposPublic/bios-dutch/cohere_tests.ipynb Cell 2\u001b[0m line \u001b[0;36m2\n\u001b[1;32m      <a href='vscode-notebook-cell:/Users/daza/ReposPublic/bios-dutch/cohere_tests.ipynb#W1sZmlsZQ%3D%3D?line=0'>1</a>\u001b[0m \u001b[39mimport\u001b[39;00m \u001b[39mpandas\u001b[39;00m \u001b[39mas\u001b[39;00m \u001b[39mpd\u001b[39;00m\n\u001b[0;32m----> <a href='vscode-notebook-cell:/Users/daza/ReposPublic/bios-dutch/cohere_tests.ipynb#W1sZmlsZQ%3D%3D?line=1'>2</a>\u001b[0m \u001b[39mimport\u001b[39;00m \u001b[39mcohere\u001b[39;00m\n\u001b[1;32m      <a href='vscode-notebook-cell:/Users/daza/ReposPublic/bios-dutch/cohere_tests.ipynb#W1sZmlsZQ%3D%3D?line=2'>3</a>\u001b[0m \u001b[39mimport\u001b[39;00m \u001b[39mos\u001b[39;00m\n\u001b[1;32m      <a href='vscode-notebook-cell:/Users/daza/ReposPublic/bios-dutch/cohere_tests.ipynb#W1sZmlsZQ%3D%3D?line=3'>4</a>\u001b[0m \u001b[39mfrom\u001b[39;00m \u001b[39mdotenv\u001b[39;00m \u001b[39mimport\u001b[39;00m find_dotenv, load_dotenv\n",
      "File \u001b[0;32m~/anaconda3/envs/cohere/lib/python3.11/site-packages/cohere/__init__.py:3\u001b[0m\n\u001b[1;32m      1\u001b[0m \u001b[39mfrom\u001b[39;00m \u001b[39mimportlib_metadata\u001b[39;00m \u001b[39mimport\u001b[39;00m version  \u001b[39m# use package to support python 3.7\u001b[39;00m\n\u001b[0;32m----> 3\u001b[0m \u001b[39mfrom\u001b[39;00m \u001b[39mcohere\u001b[39;00m\u001b[39m.\u001b[39;00m\u001b[39mclient\u001b[39;00m \u001b[39mimport\u001b[39;00m Client\n\u001b[1;32m      4\u001b[0m \u001b[39mfrom\u001b[39;00m \u001b[39mcohere\u001b[39;00m\u001b[39m.\u001b[39;00m\u001b[39mclient_async\u001b[39;00m \u001b[39mimport\u001b[39;00m AsyncClient\n\u001b[1;32m      5\u001b[0m \u001b[39mfrom\u001b[39;00m \u001b[39mcohere\u001b[39;00m\u001b[39m.\u001b[39;00m\u001b[39merror\u001b[39;00m \u001b[39mimport\u001b[39;00m CohereAPIError, CohereConnectionError, CohereError\n",
      "File \u001b[0;32m~/anaconda3/envs/cohere/lib/python3.11/site-packages/cohere/client.py:14\u001b[0m\n\u001b[1;32m     11\u001b[0m \u001b[39mexcept\u001b[39;00m \u001b[39mImportError\u001b[39;00m:\n\u001b[1;32m     12\u001b[0m     \u001b[39mfrom\u001b[39;00m \u001b[39mtyping_extensions\u001b[39;00m \u001b[39mimport\u001b[39;00m Literal, TypedDict\n\u001b[0;32m---> 14\u001b[0m \u001b[39mimport\u001b[39;00m \u001b[39mrequests\u001b[39;00m\n\u001b[1;32m     15\u001b[0m \u001b[39mfrom\u001b[39;00m \u001b[39mrequests\u001b[39;00m\u001b[39m.\u001b[39;00m\u001b[39madapters\u001b[39;00m \u001b[39mimport\u001b[39;00m HTTPAdapter\n\u001b[1;32m     16\u001b[0m \u001b[39mfrom\u001b[39;00m \u001b[39murllib3\u001b[39;00m \u001b[39mimport\u001b[39;00m Retry\n",
      "File \u001b[0;32m~/anaconda3/envs/cohere/lib/python3.11/site-packages/requests/__init__.py:45\u001b[0m\n\u001b[1;32m     41\u001b[0m \u001b[39mimport\u001b[39;00m \u001b[39mwarnings\u001b[39;00m\n\u001b[1;32m     43\u001b[0m \u001b[39mimport\u001b[39;00m \u001b[39murllib3\u001b[39;00m\n\u001b[0;32m---> 45\u001b[0m \u001b[39mfrom\u001b[39;00m \u001b[39m.\u001b[39;00m\u001b[39mexceptions\u001b[39;00m \u001b[39mimport\u001b[39;00m RequestsDependencyWarning\n\u001b[1;32m     47\u001b[0m \u001b[39mtry\u001b[39;00m:\n\u001b[1;32m     48\u001b[0m     \u001b[39mfrom\u001b[39;00m \u001b[39mcharset_normalizer\u001b[39;00m \u001b[39mimport\u001b[39;00m __version__ \u001b[39mas\u001b[39;00m charset_normalizer_version\n",
      "File \u001b[0;32m~/anaconda3/envs/cohere/lib/python3.11/site-packages/requests/exceptions.py:9\u001b[0m\n\u001b[1;32m      1\u001b[0m \u001b[39m\"\"\"\u001b[39;00m\n\u001b[1;32m      2\u001b[0m \u001b[39mrequests.exceptions\u001b[39;00m\n\u001b[1;32m      3\u001b[0m \u001b[39m~~~~~~~~~~~~~~~~~~~\u001b[39;00m\n\u001b[1;32m      4\u001b[0m \n\u001b[1;32m      5\u001b[0m \u001b[39mThis module contains the set of Requests' exceptions.\u001b[39;00m\n\u001b[1;32m      6\u001b[0m \u001b[39m\"\"\"\u001b[39;00m\n\u001b[1;32m      7\u001b[0m \u001b[39mfrom\u001b[39;00m \u001b[39murllib3\u001b[39;00m\u001b[39m.\u001b[39;00m\u001b[39mexceptions\u001b[39;00m \u001b[39mimport\u001b[39;00m HTTPError \u001b[39mas\u001b[39;00m BaseHTTPError\n\u001b[0;32m----> 9\u001b[0m \u001b[39mfrom\u001b[39;00m \u001b[39m.\u001b[39;00m\u001b[39mcompat\u001b[39;00m \u001b[39mimport\u001b[39;00m JSONDecodeError \u001b[39mas\u001b[39;00m CompatJSONDecodeError\n\u001b[1;32m     12\u001b[0m \u001b[39mclass\u001b[39;00m \u001b[39mRequestException\u001b[39;00m(\u001b[39mIOError\u001b[39;00m):\n\u001b[1;32m     13\u001b[0m \u001b[39m    \u001b[39m\u001b[39m\"\"\"There was an ambiguous exception that occurred while handling your\u001b[39;00m\n\u001b[1;32m     14\u001b[0m \u001b[39m    request.\u001b[39;00m\n\u001b[1;32m     15\u001b[0m \u001b[39m    \"\"\"\u001b[39;00m\n",
      "File \u001b[0;32m~/anaconda3/envs/cohere/lib/python3.11/site-packages/requests/compat.py:13\u001b[0m\n\u001b[1;32m     11\u001b[0m     \u001b[39mimport\u001b[39;00m \u001b[39mchardet\u001b[39;00m\n\u001b[1;32m     12\u001b[0m \u001b[39mexcept\u001b[39;00m \u001b[39mImportError\u001b[39;00m:\n\u001b[0;32m---> 13\u001b[0m     \u001b[39mimport\u001b[39;00m \u001b[39mcharset_normalizer\u001b[39;00m \u001b[39mas\u001b[39;00m \u001b[39mchardet\u001b[39;00m\n\u001b[1;32m     15\u001b[0m \u001b[39mimport\u001b[39;00m \u001b[39msys\u001b[39;00m\n\u001b[1;32m     17\u001b[0m \u001b[39m# -------\u001b[39;00m\n\u001b[1;32m     18\u001b[0m \u001b[39m# Pythons\u001b[39;00m\n\u001b[1;32m     19\u001b[0m \u001b[39m# -------\u001b[39;00m\n\u001b[1;32m     20\u001b[0m \n\u001b[1;32m     21\u001b[0m \u001b[39m# Syntax sugar.\u001b[39;00m\n",
      "File \u001b[0;32m~/anaconda3/envs/cohere/lib/python3.11/site-packages/charset_normalizer/__init__.py:23\u001b[0m\n\u001b[1;32m      1\u001b[0m \u001b[39m\"\"\"\u001b[39;00m\n\u001b[1;32m      2\u001b[0m \u001b[39mCharset-Normalizer\u001b[39;00m\n\u001b[1;32m      3\u001b[0m \u001b[39m~~~~~~~~~~~~~~\u001b[39;00m\n\u001b[0;32m   (...)\u001b[0m\n\u001b[1;32m     21\u001b[0m \u001b[39m:license: MIT, see LICENSE for more details.\u001b[39;00m\n\u001b[1;32m     22\u001b[0m \u001b[39m\"\"\"\u001b[39;00m\n\u001b[0;32m---> 23\u001b[0m \u001b[39mfrom\u001b[39;00m \u001b[39mcharset_normalizer\u001b[39;00m\u001b[39m.\u001b[39;00m\u001b[39mapi\u001b[39;00m \u001b[39mimport\u001b[39;00m from_fp, from_path, from_bytes, normalize\n\u001b[1;32m     24\u001b[0m \u001b[39mfrom\u001b[39;00m \u001b[39mcharset_normalizer\u001b[39;00m\u001b[39m.\u001b[39;00m\u001b[39mlegacy\u001b[39;00m \u001b[39mimport\u001b[39;00m detect\n\u001b[1;32m     25\u001b[0m \u001b[39mfrom\u001b[39;00m \u001b[39mcharset_normalizer\u001b[39;00m\u001b[39m.\u001b[39;00m\u001b[39mversion\u001b[39;00m \u001b[39mimport\u001b[39;00m __version__, VERSION\n",
      "File \u001b[0;32m~/anaconda3/envs/cohere/lib/python3.11/site-packages/charset_normalizer/api.py:10\u001b[0m\n\u001b[1;32m      7\u001b[0m     PathLike \u001b[39m=\u001b[39m Union[\u001b[39mstr\u001b[39m, \u001b[39m'\u001b[39m\u001b[39mos.PathLike[str]\u001b[39m\u001b[39m'\u001b[39m]  \u001b[39m# type: ignore\u001b[39;00m\n\u001b[1;32m      9\u001b[0m \u001b[39mfrom\u001b[39;00m \u001b[39mcharset_normalizer\u001b[39;00m\u001b[39m.\u001b[39;00m\u001b[39mconstant\u001b[39;00m \u001b[39mimport\u001b[39;00m TOO_SMALL_SEQUENCE, TOO_BIG_SEQUENCE, IANA_SUPPORTED\n\u001b[0;32m---> 10\u001b[0m \u001b[39mfrom\u001b[39;00m \u001b[39mcharset_normalizer\u001b[39;00m\u001b[39m.\u001b[39;00m\u001b[39mmd\u001b[39;00m \u001b[39mimport\u001b[39;00m mess_ratio\n\u001b[1;32m     11\u001b[0m \u001b[39mfrom\u001b[39;00m \u001b[39mcharset_normalizer\u001b[39;00m\u001b[39m.\u001b[39;00m\u001b[39mmodels\u001b[39;00m \u001b[39mimport\u001b[39;00m CharsetMatches, CharsetMatch\n\u001b[1;32m     12\u001b[0m \u001b[39mfrom\u001b[39;00m \u001b[39mwarnings\u001b[39;00m \u001b[39mimport\u001b[39;00m warn\n",
      "\u001b[0;31mAttributeError\u001b[0m: partially initialized module 'charset_normalizer' has no attribute 'md__mypyc' (most likely due to a circular import)"
     ]
    }
   ],
   "source": [
    "import pandas as pd\n",
    "import cohere\n",
    "import os\n",
    "from dotenv import find_dotenv, load_dotenv\n",
    "_ = load_dotenv(find_dotenv())\n",
    "\n",
    "test = pd.DataFrame({\"text\": [\"What color is the sky?\", \"The sky is blue\", \"What is an apple?\", \"An apple is a fruit\",\n",
    "    \"What color is the sky?\", \"The sky is blue\", \"What is an apple?\", \"An apple is a fruit\",\n",
    "    \"What color is the sky?\", \"The sky is blue\", \"What is an apple?\", \"An apple is a fruit\",\n",
    "    \"What color is the sky?\", \"The sky is blue\", \"What is an apple?\", \"An apple is a fruit\",\n",
    "    \"What color is the sky?\", \"The sky is blue\", \"What is an apple?\", \"An apple is a fruit\"]\n",
    "})\n",
    "print(test)\n",
    "\n",
    "co = cohere.Client(os.environ['COHERE_API_KEY'])\n",
    "\n",
    "my_embeddings = co.embed(texts=list(test['text']), model='embed-english-v2.0').embeddings\n",
    "\n",
    "print(f\"Number of Embeddings = {len(my_embeddings)}\")\n",
    "print(f\"Dimension of Embeddings = {len(my_embeddings[1])}\")\n",
    "print(my_embeddings[1][:10])"
   ]
  },
  {
   "cell_type": "code",
   "execution_count": 10,
   "metadata": {},
   "outputs": [
    {
     "ename": "AttributeError",
     "evalue": "partially initialized module 'charset_normalizer' has no attribute 'md__mypyc' (most likely due to a circular import)",
     "output_type": "error",
     "traceback": [
      "\u001b[0;31m---------------------------------------------------------------------------\u001b[0m",
      "\u001b[0;31mModuleNotFoundError\u001b[0m                       Traceback (most recent call last)",
      "File \u001b[0;32m~/anaconda3/envs/cohere/lib/python3.11/site-packages/requests/compat.py:11\u001b[0m\n\u001b[1;32m     10\u001b[0m \u001b[39mtry\u001b[39;00m:\n\u001b[0;32m---> 11\u001b[0m     \u001b[39mimport\u001b[39;00m \u001b[39mchardet\u001b[39;00m\n\u001b[1;32m     12\u001b[0m \u001b[39mexcept\u001b[39;00m \u001b[39mImportError\u001b[39;00m:\n",
      "\u001b[0;31mModuleNotFoundError\u001b[0m: No module named 'chardet'",
      "\nDuring handling of the above exception, another exception occurred:\n",
      "\u001b[0;31mAttributeError\u001b[0m                            Traceback (most recent call last)",
      "\u001b[1;32m/Users/daza/ReposPublic/bios-dutch/cohere_tests.ipynb Cell 3\u001b[0m line \u001b[0;36m2\n\u001b[1;32m      <a href='vscode-notebook-cell:/Users/daza/ReposPublic/bios-dutch/cohere_tests.ipynb#W2sZmlsZQ%3D%3D?line=0'>1</a>\u001b[0m \u001b[39mimport\u001b[39;00m \u001b[39mumap\u001b[39;00m\n\u001b[0;32m----> <a href='vscode-notebook-cell:/Users/daza/ReposPublic/bios-dutch/cohere_tests.ipynb#W2sZmlsZQ%3D%3D?line=1'>2</a>\u001b[0m \u001b[39mimport\u001b[39;00m \u001b[39mumap\u001b[39;00m\u001b[39m.\u001b[39;00m\u001b[39mplot\u001b[39;00m\n\u001b[1;32m      <a href='vscode-notebook-cell:/Users/daza/ReposPublic/bios-dutch/cohere_tests.ipynb#W2sZmlsZQ%3D%3D?line=3'>4</a>\u001b[0m mapper \u001b[39m=\u001b[39m umap\u001b[39m.\u001b[39mUMAP(n_components\u001b[39m=\u001b[39m\u001b[39m2\u001b[39m, init\u001b[39m=\u001b[39m\u001b[39m'\u001b[39m\u001b[39mrandom\u001b[39m\u001b[39m'\u001b[39m)\u001b[39m.\u001b[39mfit(my_embeddings)\n\u001b[1;32m      <a href='vscode-notebook-cell:/Users/daza/ReposPublic/bios-dutch/cohere_tests.ipynb#W2sZmlsZQ%3D%3D?line=4'>5</a>\u001b[0m umap\u001b[39m.\u001b[39mplot\u001b[39m.\u001b[39mpoints(mapper)\n",
      "File \u001b[0;32m~/anaconda3/envs/cohere/lib/python3.11/site-packages/umap/plot.py:7\u001b[0m\n\u001b[1;32m      5\u001b[0m \u001b[39mtry\u001b[39;00m:\n\u001b[1;32m      6\u001b[0m     \u001b[39mimport\u001b[39;00m \u001b[39mpandas\u001b[39;00m \u001b[39mas\u001b[39;00m \u001b[39mpd\u001b[39;00m\n\u001b[0;32m----> 7\u001b[0m     \u001b[39mimport\u001b[39;00m \u001b[39mdatashader\u001b[39;00m \u001b[39mas\u001b[39;00m \u001b[39mds\u001b[39;00m\n\u001b[1;32m      8\u001b[0m     \u001b[39mimport\u001b[39;00m \u001b[39mdatashader\u001b[39;00m\u001b[39m.\u001b[39;00m\u001b[39mtransfer_functions\u001b[39;00m \u001b[39mas\u001b[39;00m \u001b[39mtf\u001b[39;00m\n\u001b[1;32m      9\u001b[0m     \u001b[39mimport\u001b[39;00m \u001b[39mdatashader\u001b[39;00m\u001b[39m.\u001b[39;00m\u001b[39mbundling\u001b[39;00m \u001b[39mas\u001b[39;00m \u001b[39mbd\u001b[39;00m\n",
      "File \u001b[0;32m~/anaconda3/envs/cohere/lib/python3.11/site-packages/datashader/__init__.py:25\u001b[0m\n\u001b[1;32m     23\u001b[0m \u001b[39mfrom\u001b[39;00m \u001b[39mfunctools\u001b[39;00m \u001b[39mimport\u001b[39;00m partial\n\u001b[1;32m     24\u001b[0m \u001b[39mtry\u001b[39;00m:\n\u001b[0;32m---> 25\u001b[0m     \u001b[39mfrom\u001b[39;00m \u001b[39mpyct\u001b[39;00m\u001b[39m.\u001b[39;00m\u001b[39mcmd\u001b[39;00m \u001b[39mimport\u001b[39;00m copy_examples \u001b[39mas\u001b[39;00m _copy, fetch_data \u001b[39mas\u001b[39;00m _fetch, examples \u001b[39mas\u001b[39;00m _examples\n\u001b[1;32m     26\u001b[0m     copy_examples \u001b[39m=\u001b[39m partial(_copy,\u001b[39m'\u001b[39m\u001b[39mdatashader\u001b[39m\u001b[39m'\u001b[39m)\n\u001b[1;32m     27\u001b[0m     fetch_data \u001b[39m=\u001b[39m partial(_fetch,\u001b[39m'\u001b[39m\u001b[39mdatashader\u001b[39m\u001b[39m'\u001b[39m)\n",
      "File \u001b[0;32m~/anaconda3/envs/cohere/lib/python3.11/site-packages/pyct/cmd.py:84\u001b[0m\n\u001b[1;32m     81\u001b[0m \u001b[39mimport\u001b[39;00m \u001b[39myaml\u001b[39;00m\n\u001b[1;32m     83\u001b[0m \u001b[39mtry\u001b[39;00m:\n\u001b[0;32m---> 84\u001b[0m     \u001b[39mimport\u001b[39;00m \u001b[39mrequests\u001b[39;00m\n\u001b[1;32m     85\u001b[0m \u001b[39mexcept\u001b[39;00m \u001b[39mImportError\u001b[39;00m:\n\u001b[1;32m     86\u001b[0m     requests \u001b[39m=\u001b[39m \u001b[39mNone\u001b[39;00m\n",
      "File \u001b[0;32m~/anaconda3/envs/cohere/lib/python3.11/site-packages/requests/__init__.py:45\u001b[0m\n\u001b[1;32m     41\u001b[0m \u001b[39mimport\u001b[39;00m \u001b[39mwarnings\u001b[39;00m\n\u001b[1;32m     43\u001b[0m \u001b[39mimport\u001b[39;00m \u001b[39murllib3\u001b[39;00m\n\u001b[0;32m---> 45\u001b[0m \u001b[39mfrom\u001b[39;00m \u001b[39m.\u001b[39;00m\u001b[39mexceptions\u001b[39;00m \u001b[39mimport\u001b[39;00m RequestsDependencyWarning\n\u001b[1;32m     47\u001b[0m \u001b[39mtry\u001b[39;00m:\n\u001b[1;32m     48\u001b[0m     \u001b[39mfrom\u001b[39;00m \u001b[39mcharset_normalizer\u001b[39;00m \u001b[39mimport\u001b[39;00m __version__ \u001b[39mas\u001b[39;00m charset_normalizer_version\n",
      "File \u001b[0;32m~/anaconda3/envs/cohere/lib/python3.11/site-packages/requests/exceptions.py:9\u001b[0m\n\u001b[1;32m      1\u001b[0m \u001b[39m\"\"\"\u001b[39;00m\n\u001b[1;32m      2\u001b[0m \u001b[39mrequests.exceptions\u001b[39;00m\n\u001b[1;32m      3\u001b[0m \u001b[39m~~~~~~~~~~~~~~~~~~~\u001b[39;00m\n\u001b[1;32m      4\u001b[0m \n\u001b[1;32m      5\u001b[0m \u001b[39mThis module contains the set of Requests' exceptions.\u001b[39;00m\n\u001b[1;32m      6\u001b[0m \u001b[39m\"\"\"\u001b[39;00m\n\u001b[1;32m      7\u001b[0m \u001b[39mfrom\u001b[39;00m \u001b[39murllib3\u001b[39;00m\u001b[39m.\u001b[39;00m\u001b[39mexceptions\u001b[39;00m \u001b[39mimport\u001b[39;00m HTTPError \u001b[39mas\u001b[39;00m BaseHTTPError\n\u001b[0;32m----> 9\u001b[0m \u001b[39mfrom\u001b[39;00m \u001b[39m.\u001b[39;00m\u001b[39mcompat\u001b[39;00m \u001b[39mimport\u001b[39;00m JSONDecodeError \u001b[39mas\u001b[39;00m CompatJSONDecodeError\n\u001b[1;32m     12\u001b[0m \u001b[39mclass\u001b[39;00m \u001b[39mRequestException\u001b[39;00m(\u001b[39mIOError\u001b[39;00m):\n\u001b[1;32m     13\u001b[0m \u001b[39m    \u001b[39m\u001b[39m\"\"\"There was an ambiguous exception that occurred while handling your\u001b[39;00m\n\u001b[1;32m     14\u001b[0m \u001b[39m    request.\u001b[39;00m\n\u001b[1;32m     15\u001b[0m \u001b[39m    \"\"\"\u001b[39;00m\n",
      "File \u001b[0;32m~/anaconda3/envs/cohere/lib/python3.11/site-packages/requests/compat.py:13\u001b[0m\n\u001b[1;32m     11\u001b[0m     \u001b[39mimport\u001b[39;00m \u001b[39mchardet\u001b[39;00m\n\u001b[1;32m     12\u001b[0m \u001b[39mexcept\u001b[39;00m \u001b[39mImportError\u001b[39;00m:\n\u001b[0;32m---> 13\u001b[0m     \u001b[39mimport\u001b[39;00m \u001b[39mcharset_normalizer\u001b[39;00m \u001b[39mas\u001b[39;00m \u001b[39mchardet\u001b[39;00m\n\u001b[1;32m     15\u001b[0m \u001b[39mimport\u001b[39;00m \u001b[39msys\u001b[39;00m\n\u001b[1;32m     17\u001b[0m \u001b[39m# -------\u001b[39;00m\n\u001b[1;32m     18\u001b[0m \u001b[39m# Pythons\u001b[39;00m\n\u001b[1;32m     19\u001b[0m \u001b[39m# -------\u001b[39;00m\n\u001b[1;32m     20\u001b[0m \n\u001b[1;32m     21\u001b[0m \u001b[39m# Syntax sugar.\u001b[39;00m\n",
      "File \u001b[0;32m~/anaconda3/envs/cohere/lib/python3.11/site-packages/charset_normalizer/__init__.py:23\u001b[0m\n\u001b[1;32m      1\u001b[0m \u001b[39m\"\"\"\u001b[39;00m\n\u001b[1;32m      2\u001b[0m \u001b[39mCharset-Normalizer\u001b[39;00m\n\u001b[1;32m      3\u001b[0m \u001b[39m~~~~~~~~~~~~~~\u001b[39;00m\n\u001b[0;32m   (...)\u001b[0m\n\u001b[1;32m     21\u001b[0m \u001b[39m:license: MIT, see LICENSE for more details.\u001b[39;00m\n\u001b[1;32m     22\u001b[0m \u001b[39m\"\"\"\u001b[39;00m\n\u001b[0;32m---> 23\u001b[0m \u001b[39mfrom\u001b[39;00m \u001b[39mcharset_normalizer\u001b[39;00m\u001b[39m.\u001b[39;00m\u001b[39mapi\u001b[39;00m \u001b[39mimport\u001b[39;00m from_fp, from_path, from_bytes, normalize\n\u001b[1;32m     24\u001b[0m \u001b[39mfrom\u001b[39;00m \u001b[39mcharset_normalizer\u001b[39;00m\u001b[39m.\u001b[39;00m\u001b[39mlegacy\u001b[39;00m \u001b[39mimport\u001b[39;00m detect\n\u001b[1;32m     25\u001b[0m \u001b[39mfrom\u001b[39;00m \u001b[39mcharset_normalizer\u001b[39;00m\u001b[39m.\u001b[39;00m\u001b[39mversion\u001b[39;00m \u001b[39mimport\u001b[39;00m __version__, VERSION\n",
      "File \u001b[0;32m~/anaconda3/envs/cohere/lib/python3.11/site-packages/charset_normalizer/api.py:10\u001b[0m\n\u001b[1;32m      7\u001b[0m     PathLike \u001b[39m=\u001b[39m Union[\u001b[39mstr\u001b[39m, \u001b[39m'\u001b[39m\u001b[39mos.PathLike[str]\u001b[39m\u001b[39m'\u001b[39m]  \u001b[39m# type: ignore\u001b[39;00m\n\u001b[1;32m      9\u001b[0m \u001b[39mfrom\u001b[39;00m \u001b[39mcharset_normalizer\u001b[39;00m\u001b[39m.\u001b[39;00m\u001b[39mconstant\u001b[39;00m \u001b[39mimport\u001b[39;00m TOO_SMALL_SEQUENCE, TOO_BIG_SEQUENCE, IANA_SUPPORTED\n\u001b[0;32m---> 10\u001b[0m \u001b[39mfrom\u001b[39;00m \u001b[39mcharset_normalizer\u001b[39;00m\u001b[39m.\u001b[39;00m\u001b[39mmd\u001b[39;00m \u001b[39mimport\u001b[39;00m mess_ratio\n\u001b[1;32m     11\u001b[0m \u001b[39mfrom\u001b[39;00m \u001b[39mcharset_normalizer\u001b[39;00m\u001b[39m.\u001b[39;00m\u001b[39mmodels\u001b[39;00m \u001b[39mimport\u001b[39;00m CharsetMatches, CharsetMatch\n\u001b[1;32m     12\u001b[0m \u001b[39mfrom\u001b[39;00m \u001b[39mwarnings\u001b[39;00m \u001b[39mimport\u001b[39;00m warn\n",
      "\u001b[0;31mAttributeError\u001b[0m: partially initialized module 'charset_normalizer' has no attribute 'md__mypyc' (most likely due to a circular import)"
     ]
    }
   ],
   "source": [
    "import umap\n",
    "import umap.plot\n",
    "\n",
    "mapper = umap.UMAP(n_components=2, init='random').fit(my_embeddings)\n",
    "umap.plot.points(mapper)"
   ]
  },
  {
   "cell_type": "code",
   "execution_count": 4,
   "metadata": {},
   "outputs": [
    {
     "ename": "NameError",
     "evalue": "name 'my_embeddings' is not defined",
     "output_type": "error",
     "traceback": [
      "\u001b[0;31m---------------------------------------------------------------------------\u001b[0m",
      "\u001b[0;31mNameError\u001b[0m                                 Traceback (most recent call last)",
      "\u001b[1;32m/Users/daza/ReposPublic/bios-dutch/cohere_tests.ipynb Cell 4\u001b[0m line \u001b[0;36m8\n\u001b[1;32m      <a href='vscode-notebook-cell:/Users/daza/ReposPublic/bios-dutch/cohere_tests.ipynb#W3sZmlsZQ%3D%3D?line=4'>5</a>\u001b[0m \u001b[39mimport\u001b[39;00m \u001b[39mnumpy\u001b[39;00m \u001b[39mas\u001b[39;00m \u001b[39mnp\u001b[39;00m\n\u001b[1;32m      <a href='vscode-notebook-cell:/Users/daza/ReposPublic/bios-dutch/cohere_tests.ipynb#W3sZmlsZQ%3D%3D?line=6'>7</a>\u001b[0m \u001b[39m# Perform UMAP dimensionality reduction\u001b[39;00m\n\u001b[0;32m----> <a href='vscode-notebook-cell:/Users/daza/ReposPublic/bios-dutch/cohere_tests.ipynb#W3sZmlsZQ%3D%3D?line=7'>8</a>\u001b[0m umap_embedding \u001b[39m=\u001b[39m umap\u001b[39m.\u001b[39mUMAP(n_neighbors\u001b[39m=\u001b[39m\u001b[39m5\u001b[39m, min_dist\u001b[39m=\u001b[39m\u001b[39m0.3\u001b[39m, random_state\u001b[39m=\u001b[39m\u001b[39m42\u001b[39m)\u001b[39m.\u001b[39mfit_transform(my_embeddings)\n\u001b[1;32m     <a href='vscode-notebook-cell:/Users/daza/ReposPublic/bios-dutch/cohere_tests.ipynb#W3sZmlsZQ%3D%3D?line=9'>10</a>\u001b[0m \u001b[39m# Create a scatter plot using Plotly\u001b[39;00m\n\u001b[1;32m     <a href='vscode-notebook-cell:/Users/daza/ReposPublic/bios-dutch/cohere_tests.ipynb#W3sZmlsZQ%3D%3D?line=10'>11</a>\u001b[0m scatter_plot \u001b[39m=\u001b[39m go\u001b[39m.\u001b[39mScatter(\n\u001b[1;32m     <a href='vscode-notebook-cell:/Users/daza/ReposPublic/bios-dutch/cohere_tests.ipynb#W3sZmlsZQ%3D%3D?line=11'>12</a>\u001b[0m     x\u001b[39m=\u001b[39mumap_embedding[:, \u001b[39m0\u001b[39m],\n\u001b[1;32m     <a href='vscode-notebook-cell:/Users/daza/ReposPublic/bios-dutch/cohere_tests.ipynb#W3sZmlsZQ%3D%3D?line=12'>13</a>\u001b[0m     y\u001b[39m=\u001b[39mumap_embedding[:, \u001b[39m1\u001b[39m],\n\u001b[1;32m     <a href='vscode-notebook-cell:/Users/daza/ReposPublic/bios-dutch/cohere_tests.ipynb#W3sZmlsZQ%3D%3D?line=13'>14</a>\u001b[0m     mode\u001b[39m=\u001b[39m\u001b[39m'\u001b[39m\u001b[39mmarkers\u001b[39m\u001b[39m'\u001b[39m\n\u001b[1;32m     <a href='vscode-notebook-cell:/Users/daza/ReposPublic/bios-dutch/cohere_tests.ipynb#W3sZmlsZQ%3D%3D?line=14'>15</a>\u001b[0m )\n",
      "\u001b[0;31mNameError\u001b[0m: name 'my_embeddings' is not defined"
     ]
    }
   ],
   "source": [
    "import umap\n",
    "import plotly.graph_objs as go\n",
    "\n",
    "# Perform UMAP dimensionality reduction\n",
    "umap_embedding = umap.UMAP(n_neighbors=5, min_dist=0.3, random_state=42).fit_transform(my_embeddings)\n",
    "\n",
    "# Create a scatter plot using Plotly\n",
    "scatter_plot = go.Scatter(\n",
    "    x=umap_embedding[:, 0],\n",
    "    y=umap_embedding[:, 1],\n",
    "    mode='markers'\n",
    ")\n",
    "\n",
    "layout = go.Layout(\n",
    "    title='UMAP Visualization',\n",
    "    #xaxis=dict(title='UMAP Dimension 1'),\n",
    "    #yaxis=dict(title='UMAP Dimension 2')\n",
    ")\n",
    "\n",
    "fig = go.Figure(data=[scatter_plot], layout=layout)\n",
    "\n",
    "# Display the interactive plot using the plotly backend for matplotlib\n",
    "import matplotlib.pyplot as plt\n",
    "from IPython.display import display\n",
    "\n",
    "#% matplotlib notebook\n",
    "\n",
    "display(fig)\n"
   ]
  }
 ],
 "metadata": {
  "kernelspec": {
   "display_name": "nlp",
   "language": "python",
   "name": "python3"
  },
  "language_info": {
   "codemirror_mode": {
    "name": "ipython",
    "version": 3
   },
   "file_extension": ".py",
   "mimetype": "text/x-python",
   "name": "python",
   "nbconvert_exporter": "python",
   "pygments_lexer": "ipython3",
   "version": "3.11.6"
  }
 },
 "nbformat": 4,
 "nbformat_minor": 2
}
